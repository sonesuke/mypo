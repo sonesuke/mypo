{
 "cells": [
  {
   "cell_type": "markdown",
   "id": "fe55f5b6",
   "metadata": {},
   "source": [
    "World Balanced Portfolio\n",
    "----------------------------------------"
   ]
  },
  {
   "cell_type": "code",
   "execution_count": 5,
   "id": "8773c9cb",
   "metadata": {},
   "outputs": [],
   "source": [
    "# If you would like to refresh your data, please execute the bellow codes.\n",
    "\n",
    "import pandas as pd\n",
    "import numpy as np\n",
    "from datetime import datetime\n",
    "from tqdm import tqdm\n",
    "import matplotlib.pyplot as plt\n",
    "from mypo import split_k_folds, select_by_regression\n",
    "from mypo.optimizer import RiskParityOptimizer\n",
    "from mypo.rebalancer import MonthlyRebalancer\n",
    "from mypo.evacuator import FixedEvacuator\n",
    "from mypo import Runner\n",
    "\n",
    "from mypo import Loader\n",
    "\n",
    "DOWNLOAD = False\n",
    "\n",
    "if DOWNLOAD:\n",
    "    loader = Loader()\n",
    "    loader.get('VTI', 0.05 * 10e-3) # market\n",
    "    \n",
    "    loader.get('VB', 0.08 * 10e-3) # size\n",
    "    \n",
    "    loader.get('VTX', 0.08 * 10e-3) # value\n",
    "    \n",
    "    loader.get('VBR', 0.08 * 10e-3) # size - value\n",
    "    \n",
    "    loader.get('MTUM', 0.15 * 10e-3) # momentum\n",
    "    \n",
    "    loader.get('QUAL', 0.15 * 10e-3) # quality\n",
    "    \n",
    "    loader.get('IEF', 0.15 * 10e-3)\n",
    "\n",
    "    \n",
    "    loader.get('DBV', 0.76 * 10e-3) # carry\n",
    "    \n",
    "    loader.get('SPY', 0.09 * 10e-3)\n",
    "    loader.get('TLT', 0.15 * 10e-3)\n",
    "    loader.get('GLD', 0.4 * 10e-3)\n",
    "    loader.save('/app/docs/tutorial/factor_portfolio.bin')\n",
    "\n",
    "loader = Loader.load('/app/docs/tutorial/factor_portfolio.bin')\n",
    "factor_market = loader.filter(['VTI', 'VBR', 'MTUM', 'QUAL', 'TLT', 'DBV']).get_market()\n",
    "us_market = loader.filter(['SPY', 'IEF', 'TLT', 'GLD']).get_market()"
   ]
  },
  {
   "cell_type": "markdown",
   "id": "532dc4df",
   "metadata": {},
   "source": [
    "Factor Investement \n",
    "------------------------"
   ]
  },
  {
   "cell_type": "code",
   "execution_count": 6,
   "id": "24d75bf9",
   "metadata": {},
   "outputs": [
    {
     "data": {
      "image/png": "[encoded data removed]",
      "text/plain": [
       "<Figure size 432x288 with 2 Axes>"
      ]
     },
     "metadata": {
      "needs_background": "light"
     },
     "output_type": "display_data"
    },
    {
     "data": {
      "text/html": [
       "<div>\n",
       "<style scoped>\n",
       "    .dataframe tbody tr th:only-of-type {\n",
       "        vertical-align: middle;\n",
       "    }\n",
       "\n",
       "    .dataframe tbody tr th {\n",
       "        vertical-align: top;\n",
       "    }\n",
       "\n",
       "    .dataframe thead th {\n",
       "        text-align: right;\n",
       "    }\n",
       "</style>\n",
       "<table border=\"1\" class=\"dataframe\">\n",
       "  <thead>\n",
       "    <tr style=\"text-align: right;\">\n",
       "      <th></th>\n",
       "      <th>VTI</th>\n",
       "      <th>VBR</th>\n",
       "      <th>MTUM</th>\n",
       "      <th>QUAL</th>\n",
       "      <th>TLT</th>\n",
       "      <th>DBV</th>\n",
       "    </tr>\n",
       "  </thead>\n",
       "  <tbody>\n",
       "    <tr>\n",
       "      <th>VTI</th>\n",
       "      <td>1.000000</td>\n",
       "      <td>0.899456</td>\n",
       "      <td>0.912506</td>\n",
       "      <td>0.978668</td>\n",
       "      <td>-0.369992</td>\n",
       "      <td>0.326423</td>\n",
       "    </tr>\n",
       "    <tr>\n",
       "      <th>VBR</th>\n",
       "      <td>0.899456</td>\n",
       "      <td>1.000000</td>\n",
       "      <td>0.725450</td>\n",
       "      <td>0.862737</td>\n",
       "      <td>-0.372436</td>\n",
       "      <td>0.359811</td>\n",
       "    </tr>\n",
       "    <tr>\n",
       "      <th>MTUM</th>\n",
       "      <td>0.912506</td>\n",
       "      <td>0.725450</td>\n",
       "      <td>1.000000</td>\n",
       "      <td>0.895919</td>\n",
       "      <td>-0.270928</td>\n",
       "      <td>0.258185</td>\n",
       "    </tr>\n",
       "    <tr>\n",
       "      <th>QUAL</th>\n",
       "      <td>0.978668</td>\n",
       "      <td>0.862737</td>\n",
       "      <td>0.895919</td>\n",
       "      <td>1.000000</td>\n",
       "      <td>-0.367195</td>\n",
       "      <td>0.307280</td>\n",
       "    </tr>\n",
       "    <tr>\n",
       "      <th>TLT</th>\n",
       "      <td>-0.369992</td>\n",
       "      <td>-0.372436</td>\n",
       "      <td>-0.270928</td>\n",
       "      <td>-0.367195</td>\n",
       "      <td>1.000000</td>\n",
       "      <td>-0.096827</td>\n",
       "    </tr>\n",
       "    <tr>\n",
       "      <th>DBV</th>\n",
       "      <td>0.326423</td>\n",
       "      <td>0.359811</td>\n",
       "      <td>0.258185</td>\n",
       "      <td>0.307280</td>\n",
       "      <td>-0.096827</td>\n",
       "      <td>1.000000</td>\n",
       "    </tr>\n",
       "  </tbody>\n",
       "</table>\n",
       "</div>"
      ],
      "text/plain": [
       "           VTI       VBR      MTUM      QUAL       TLT       DBV\n",
       "VTI   1.000000  0.899456  0.912506  0.978668 -0.369992  0.326423\n",
       "VBR   0.899456  1.000000  0.725450  0.862737 -0.372436  0.359811\n",
       "MTUM  0.912506  0.725450  1.000000  0.895919 -0.270928  0.258185\n",
       "QUAL  0.978668  0.862737  0.895919  1.000000 -0.367195  0.307280\n",
       "TLT  -0.369992 -0.372436 -0.270928 -0.367195  1.000000 -0.096827\n",
       "DBV   0.326423  0.359811  0.258185  0.307280 -0.096827  1.000000"
      ]
     },
     "execution_count": 6,
     "metadata": {},
     "output_type": "execute_result"
    }
   ],
   "source": [
    "corr = factor_market.get_rate_of_change().corr()\n",
    "\n",
    "plt.figure()\n",
    "plt.imshow(corr,interpolation='nearest',vmin=-1,vmax=1,cmap='viridis')\n",
    "plt.colorbar()\n",
    "plt.show()\n",
    "\n",
    "corr"
   ]
  },
  {
   "cell_type": "code",
   "execution_count": 2,
   "id": "742007e8",
   "metadata": {
    "scrolled": false
   },
   "outputs": [
    {
     "name": "stderr",
     "output_type": "stream",
     "text": [
      "100%|██████████| 1842/1842 [00:25<00:00, 73.60it/s]\n"
     ]
    },
    {
     "data": {
      "text/html": [
       "<div>\n",
       "<style scoped>\n",
       "    .dataframe tbody tr th:only-of-type {\n",
       "        vertical-align: middle;\n",
       "    }\n",
       "\n",
       "    .dataframe tbody tr th {\n",
       "        vertical-align: top;\n",
       "    }\n",
       "\n",
       "    .dataframe thead th {\n",
       "        text-align: right;\n",
       "    }\n",
       "</style>\n",
       "<table border=\"1\" class=\"dataframe\">\n",
       "  <thead>\n",
       "    <tr style=\"text-align: right;\">\n",
       "      <th></th>\n",
       "      <th>tickers</th>\n",
       "      <th>yearly total return</th>\n",
       "      <th>sharpe ratio</th>\n",
       "      <th>max draw down</th>\n",
       "      <th>max draw down span</th>\n",
       "    </tr>\n",
       "  </thead>\n",
       "  <tbody>\n",
       "    <tr>\n",
       "      <th>0</th>\n",
       "      <td>[VTI, VBR, MTUM, QUAL, TLT, DBV]</td>\n",
       "      <td>1.076783</td>\n",
       "      <td>0.697602</td>\n",
       "      <td>0.815822</td>\n",
       "      <td>303</td>\n",
       "    </tr>\n",
       "  </tbody>\n",
       "</table>\n",
       "</div>"
      ],
      "text/plain": [
       "                            tickers  yearly total return  sharpe ratio  \\\n",
       "0  [VTI, VBR, MTUM, QUAL, TLT, DBV]             1.076783      0.697602   \n",
       "\n",
       "   max draw down  max draw down span  \n",
       "0       0.815822                 303  "
      ]
     },
     "metadata": {},
     "output_type": "display_data"
    },
    {
     "data": {
      "text/html": [
       "<div>\n",
       "<style scoped>\n",
       "    .dataframe tbody tr th:only-of-type {\n",
       "        vertical-align: middle;\n",
       "    }\n",
       "\n",
       "    .dataframe tbody tr th {\n",
       "        vertical-align: top;\n",
       "    }\n",
       "\n",
       "    .dataframe thead th {\n",
       "        text-align: right;\n",
       "    }\n",
       "</style>\n",
       "<table border=\"1\" class=\"dataframe\">\n",
       "  <thead>\n",
       "    <tr style=\"text-align: right;\">\n",
       "      <th></th>\n",
       "      <th>return</th>\n",
       "      <th>std</th>\n",
       "      <th>sharpe ratio</th>\n",
       "      <th>draw down</th>\n",
       "    </tr>\n",
       "  </thead>\n",
       "  <tbody>\n",
       "    <tr>\n",
       "      <th>2014-12-31</th>\n",
       "      <td>0.079350</td>\n",
       "      <td>0.051691</td>\n",
       "      <td>1.148168</td>\n",
       "      <td>0.966899</td>\n",
       "    </tr>\n",
       "    <tr>\n",
       "      <th>2015-12-31</th>\n",
       "      <td>-0.025128</td>\n",
       "      <td>0.075611</td>\n",
       "      <td>-0.596849</td>\n",
       "      <td>0.914493</td>\n",
       "    </tr>\n",
       "    <tr>\n",
       "      <th>2016-12-31</th>\n",
       "      <td>0.083227</td>\n",
       "      <td>0.064894</td>\n",
       "      <td>0.974306</td>\n",
       "      <td>0.921371</td>\n",
       "    </tr>\n",
       "    <tr>\n",
       "      <th>2017-12-31</th>\n",
       "      <td>0.094777</td>\n",
       "      <td>0.041735</td>\n",
       "      <td>1.791732</td>\n",
       "      <td>0.979006</td>\n",
       "    </tr>\n",
       "    <tr>\n",
       "      <th>2018-12-31</th>\n",
       "      <td>-0.029026</td>\n",
       "      <td>0.079609</td>\n",
       "      <td>-0.615840</td>\n",
       "      <td>0.907386</td>\n",
       "    </tr>\n",
       "    <tr>\n",
       "      <th>2019-12-31</th>\n",
       "      <td>0.174661</td>\n",
       "      <td>0.055071</td>\n",
       "      <td>2.808378</td>\n",
       "      <td>0.927131</td>\n",
       "    </tr>\n",
       "    <tr>\n",
       "      <th>2020-12-31</th>\n",
       "      <td>0.122672</td>\n",
       "      <td>0.147573</td>\n",
       "      <td>0.695735</td>\n",
       "      <td>0.815822</td>\n",
       "    </tr>\n",
       "    <tr>\n",
       "      <th>2021-12-31</th>\n",
       "      <td>0.074766</td>\n",
       "      <td>0.077737</td>\n",
       "      <td>0.704503</td>\n",
       "      <td>0.962382</td>\n",
       "    </tr>\n",
       "  </tbody>\n",
       "</table>\n",
       "</div>"
      ],
      "text/plain": [
       "              return       std  sharpe ratio  draw down\n",
       "2014-12-31  0.079350  0.051691      1.148168   0.966899\n",
       "2015-12-31 -0.025128  0.075611     -0.596849   0.914493\n",
       "2016-12-31  0.083227  0.064894      0.974306   0.921371\n",
       "2017-12-31  0.094777  0.041735      1.791732   0.979006\n",
       "2018-12-31 -0.029026  0.079609     -0.615840   0.907386\n",
       "2019-12-31  0.174661  0.055071      2.808378   0.927131\n",
       "2020-12-31  0.122672  0.147573      0.695735   0.815822\n",
       "2021-12-31  0.074766  0.077737      0.704503   0.962382"
      ]
     },
     "metadata": {},
     "output_type": "display_data"
    },
    {
     "data": {
      "image/png": "[encoded data removed]",
      "text/plain": [
       "<Figure size 432x288 with 1 Axes>"
      ]
     },
     "metadata": {
      "needs_background": "light"
     },
     "output_type": "display_data"
    },
    {
     "data": {
      "image/png": "[encoded data removed]",
      "text/plain": [
       "<Figure size 432x288 with 1 Axes>"
      ]
     },
     "metadata": {
      "needs_background": "light"
     },
     "output_type": "display_data"
    },
    {
     "data": {
      "image/png": "[encoded data removed]",
      "text/plain": [
       "<Figure size 432x288 with 1 Axes>"
      ]
     },
     "metadata": {
      "needs_background": "light"
     },
     "output_type": "display_data"
    },
    {
     "data": {
      "image/png": "[encoded data removed]",
      "text/plain": [
       "<Figure size 432x288 with 1 Axes>"
      ]
     },
     "metadata": {
      "needs_background": "light"
     },
     "output_type": "display_data"
    }
   ],
   "source": [
    "folds = split_k_folds(factor_market, 1, 200)\n",
    "fold = folds[0]\n",
    "\n",
    "optimizer = RiskParityOptimizer()\n",
    "runner = Runner(\n",
    "    rebalancer=MonthlyRebalancer(optimizer=optimizer, evacuator=FixedEvacuator(level=0.05)),\n",
    ")\n",
    "\n",
    "runner.run(\n",
    "    fold=fold,\n",
    "    verbose=True\n",
    ")\n",
    "report = runner.report()\n",
    "display(report.summary())\n",
    "display(report.annual_summary())\n",
    "ax = report.history_assets().plot()\n",
    "plt.legend(bbox_to_anchor=(1.05, 1), loc='upper left', borderaxespad=0)\n",
    "plt.show()\n",
    "ax = report.history_weights().plot.area(stacked=True)\n",
    "plt.legend(bbox_to_anchor=(1.05, 1), loc='upper left', borderaxespad=0)\n",
    "plt.show()\n",
    "ax = report.history_cost().plot.area(stacked=True)\n",
    "plt.legend(bbox_to_anchor=(1.05, 1), loc='upper left', borderaxespad=0)\n",
    "plt.show()\n",
    "ax = report.history_cash_vs_assets().plot.area(stacked=True)\n",
    "plt.legend(bbox_to_anchor=(1.05, 1), loc='upper left', borderaxespad=0)\n",
    "plt.show()\n"
   ]
  },
  {
   "cell_type": "markdown",
   "id": "831a1ae4",
   "metadata": {},
   "source": [
    "Traditonal Asset Class\n",
    "------------------------"
   ]
  },
  {
   "cell_type": "code",
   "execution_count": 7,
   "id": "f8e1da57",
   "metadata": {},
   "outputs": [
    {
     "data": {
      "image/png": "[encoded data removed]",
      "text/plain": [
       "<Figure size 432x288 with 2 Axes>"
      ]
     },
     "metadata": {
      "needs_background": "light"
     },
     "output_type": "display_data"
    },
    {
     "data": {
      "text/html": [
       "<div>\n",
       "<style scoped>\n",
       "    .dataframe tbody tr th:only-of-type {\n",
       "        vertical-align: middle;\n",
       "    }\n",
       "\n",
       "    .dataframe tbody tr th {\n",
       "        vertical-align: top;\n",
       "    }\n",
       "\n",
       "    .dataframe thead th {\n",
       "        text-align: right;\n",
       "    }\n",
       "</style>\n",
       "<table border=\"1\" class=\"dataframe\">\n",
       "  <thead>\n",
       "    <tr style=\"text-align: right;\">\n",
       "      <th></th>\n",
       "      <th>SPY</th>\n",
       "      <th>IEF</th>\n",
       "      <th>TLT</th>\n",
       "      <th>GLD</th>\n",
       "    </tr>\n",
       "  </thead>\n",
       "  <tbody>\n",
       "    <tr>\n",
       "      <th>SPY</th>\n",
       "      <td>1.000000</td>\n",
       "      <td>-0.401425</td>\n",
       "      <td>-0.412393</td>\n",
       "      <td>0.042148</td>\n",
       "    </tr>\n",
       "    <tr>\n",
       "      <th>IEF</th>\n",
       "      <td>-0.401425</td>\n",
       "      <td>1.000000</td>\n",
       "      <td>0.910479</td>\n",
       "      <td>0.171212</td>\n",
       "    </tr>\n",
       "    <tr>\n",
       "      <th>TLT</th>\n",
       "      <td>-0.412393</td>\n",
       "      <td>0.910479</td>\n",
       "      <td>1.000000</td>\n",
       "      <td>0.137708</td>\n",
       "    </tr>\n",
       "    <tr>\n",
       "      <th>GLD</th>\n",
       "      <td>0.042148</td>\n",
       "      <td>0.171212</td>\n",
       "      <td>0.137708</td>\n",
       "      <td>1.000000</td>\n",
       "    </tr>\n",
       "  </tbody>\n",
       "</table>\n",
       "</div>"
      ],
      "text/plain": [
       "          SPY       IEF       TLT       GLD\n",
       "SPY  1.000000 -0.401425 -0.412393  0.042148\n",
       "IEF -0.401425  1.000000  0.910479  0.171212\n",
       "TLT -0.412393  0.910479  1.000000  0.137708\n",
       "GLD  0.042148  0.171212  0.137708  1.000000"
      ]
     },
     "execution_count": 7,
     "metadata": {},
     "output_type": "execute_result"
    }
   ],
   "source": [
    "corr = us_market.get_rate_of_change().corr()\n",
    "\n",
    "plt.figure()\n",
    "plt.imshow(corr,interpolation='nearest',vmin=-1,vmax=1,cmap='viridis')\n",
    "plt.colorbar()\n",
    "plt.show()\n",
    "\n",
    "corr"
   ]
  },
  {
   "cell_type": "code",
   "execution_count": 3,
   "id": "5d7fe10b",
   "metadata": {
    "scrolled": true
   },
   "outputs": [
    {
     "name": "stderr",
     "output_type": "stream",
     "text": [
      "100%|██████████| 4021/4021 [00:49<00:00, 80.49it/s]\n"
     ]
    },
    {
     "data": {
      "text/html": [
       "<div>\n",
       "<style scoped>\n",
       "    .dataframe tbody tr th:only-of-type {\n",
       "        vertical-align: middle;\n",
       "    }\n",
       "\n",
       "    .dataframe tbody tr th {\n",
       "        vertical-align: top;\n",
       "    }\n",
       "\n",
       "    .dataframe thead th {\n",
       "        text-align: right;\n",
       "    }\n",
       "</style>\n",
       "<table border=\"1\" class=\"dataframe\">\n",
       "  <thead>\n",
       "    <tr style=\"text-align: right;\">\n",
       "      <th></th>\n",
       "      <th>tickers</th>\n",
       "      <th>yearly total return</th>\n",
       "      <th>sharpe ratio</th>\n",
       "      <th>max draw down</th>\n",
       "      <th>max draw down span</th>\n",
       "    </tr>\n",
       "  </thead>\n",
       "  <tbody>\n",
       "    <tr>\n",
       "      <th>0</th>\n",
       "      <td>[SPY, IEF, TLT, GLD]</td>\n",
       "      <td>1.08535</td>\n",
       "      <td>0.612311</td>\n",
       "      <td>0.690173</td>\n",
       "      <td>725</td>\n",
       "    </tr>\n",
       "  </tbody>\n",
       "</table>\n",
       "</div>"
      ],
      "text/plain": [
       "                tickers  yearly total return  sharpe ratio  max draw down  \\\n",
       "0  [SPY, IEF, TLT, GLD]              1.08535      0.612311       0.690173   \n",
       "\n",
       "   max draw down span  \n",
       "0                 725  "
      ]
     },
     "metadata": {},
     "output_type": "display_data"
    },
    {
     "data": {
      "text/html": [
       "<div>\n",
       "<style scoped>\n",
       "    .dataframe tbody tr th:only-of-type {\n",
       "        vertical-align: middle;\n",
       "    }\n",
       "\n",
       "    .dataframe tbody tr th {\n",
       "        vertical-align: top;\n",
       "    }\n",
       "\n",
       "    .dataframe thead th {\n",
       "        text-align: right;\n",
       "    }\n",
       "</style>\n",
       "<table border=\"1\" class=\"dataframe\">\n",
       "  <thead>\n",
       "    <tr style=\"text-align: right;\">\n",
       "      <th></th>\n",
       "      <th>return</th>\n",
       "      <th>std</th>\n",
       "      <th>sharpe ratio</th>\n",
       "      <th>draw down</th>\n",
       "    </tr>\n",
       "  </thead>\n",
       "  <tbody>\n",
       "    <tr>\n",
       "      <th>2005-12-31</th>\n",
       "      <td>0.038527</td>\n",
       "      <td>0.065600</td>\n",
       "      <td>0.282424</td>\n",
       "      <td>0.967056</td>\n",
       "    </tr>\n",
       "    <tr>\n",
       "      <th>2006-12-31</th>\n",
       "      <td>0.099910</td>\n",
       "      <td>0.069779</td>\n",
       "      <td>1.145188</td>\n",
       "      <td>0.934181</td>\n",
       "    </tr>\n",
       "    <tr>\n",
       "      <th>2007-12-31</th>\n",
       "      <td>0.091324</td>\n",
       "      <td>0.093349</td>\n",
       "      <td>0.764063</td>\n",
       "      <td>0.951485</td>\n",
       "    </tr>\n",
       "    <tr>\n",
       "      <th>2008-12-31</th>\n",
       "      <td>-0.166027</td>\n",
       "      <td>0.210794</td>\n",
       "      <td>-0.882507</td>\n",
       "      <td>0.708218</td>\n",
       "    </tr>\n",
       "    <tr>\n",
       "      <th>2009-12-31</th>\n",
       "      <td>0.143934</td>\n",
       "      <td>0.148219</td>\n",
       "      <td>0.836153</td>\n",
       "      <td>0.690173</td>\n",
       "    </tr>\n",
       "    <tr>\n",
       "      <th>2010-12-31</th>\n",
       "      <td>0.134603</td>\n",
       "      <td>0.096308</td>\n",
       "      <td>1.189962</td>\n",
       "      <td>0.907491</td>\n",
       "    </tr>\n",
       "    <tr>\n",
       "      <th>2011-12-31</th>\n",
       "      <td>0.085352</td>\n",
       "      <td>0.112998</td>\n",
       "      <td>0.578347</td>\n",
       "      <td>0.927817</td>\n",
       "    </tr>\n",
       "    <tr>\n",
       "      <th>2012-12-31</th>\n",
       "      <td>0.110067</td>\n",
       "      <td>0.070698</td>\n",
       "      <td>1.273962</td>\n",
       "      <td>0.957250</td>\n",
       "    </tr>\n",
       "    <tr>\n",
       "      <th>2013-12-31</th>\n",
       "      <td>0.080048</td>\n",
       "      <td>0.073903</td>\n",
       "      <td>0.812523</td>\n",
       "      <td>0.943075</td>\n",
       "    </tr>\n",
       "    <tr>\n",
       "      <th>2014-12-31</th>\n",
       "      <td>0.114662</td>\n",
       "      <td>0.059627</td>\n",
       "      <td>1.587555</td>\n",
       "      <td>0.960703</td>\n",
       "    </tr>\n",
       "    <tr>\n",
       "      <th>2015-12-31</th>\n",
       "      <td>-0.014895</td>\n",
       "      <td>0.085806</td>\n",
       "      <td>-0.406674</td>\n",
       "      <td>0.927119</td>\n",
       "    </tr>\n",
       "    <tr>\n",
       "      <th>2016-12-31</th>\n",
       "      <td>0.092692</td>\n",
       "      <td>0.068092</td>\n",
       "      <td>1.067567</td>\n",
       "      <td>0.928556</td>\n",
       "    </tr>\n",
       "    <tr>\n",
       "      <th>2017-12-31</th>\n",
       "      <td>0.146133</td>\n",
       "      <td>0.039275</td>\n",
       "      <td>3.211535</td>\n",
       "      <td>0.982981</td>\n",
       "    </tr>\n",
       "    <tr>\n",
       "      <th>2018-12-31</th>\n",
       "      <td>-0.033733</td>\n",
       "      <td>0.094302</td>\n",
       "      <td>-0.569793</td>\n",
       "      <td>0.895115</td>\n",
       "    </tr>\n",
       "    <tr>\n",
       "      <th>2019-12-31</th>\n",
       "      <td>0.235172</td>\n",
       "      <td>0.066241</td>\n",
       "      <td>3.248323</td>\n",
       "      <td>0.922280</td>\n",
       "    </tr>\n",
       "    <tr>\n",
       "      <th>2020-12-31</th>\n",
       "      <td>0.165120</td>\n",
       "      <td>0.181476</td>\n",
       "      <td>0.799664</td>\n",
       "      <td>0.809834</td>\n",
       "    </tr>\n",
       "    <tr>\n",
       "      <th>2021-12-31</th>\n",
       "      <td>0.100322</td>\n",
       "      <td>0.085622</td>\n",
       "      <td>0.938092</td>\n",
       "      <td>0.957415</td>\n",
       "    </tr>\n",
       "  </tbody>\n",
       "</table>\n",
       "</div>"
      ],
      "text/plain": [
       "              return       std  sharpe ratio  draw down\n",
       "2005-12-31  0.038527  0.065600      0.282424   0.967056\n",
       "2006-12-31  0.099910  0.069779      1.145188   0.934181\n",
       "2007-12-31  0.091324  0.093349      0.764063   0.951485\n",
       "2008-12-31 -0.166027  0.210794     -0.882507   0.708218\n",
       "2009-12-31  0.143934  0.148219      0.836153   0.690173\n",
       "2010-12-31  0.134603  0.096308      1.189962   0.907491\n",
       "2011-12-31  0.085352  0.112998      0.578347   0.927817\n",
       "2012-12-31  0.110067  0.070698      1.273962   0.957250\n",
       "2013-12-31  0.080048  0.073903      0.812523   0.943075\n",
       "2014-12-31  0.114662  0.059627      1.587555   0.960703\n",
       "2015-12-31 -0.014895  0.085806     -0.406674   0.927119\n",
       "2016-12-31  0.092692  0.068092      1.067567   0.928556\n",
       "2017-12-31  0.146133  0.039275      3.211535   0.982981\n",
       "2018-12-31 -0.033733  0.094302     -0.569793   0.895115\n",
       "2019-12-31  0.235172  0.066241      3.248323   0.922280\n",
       "2020-12-31  0.165120  0.181476      0.799664   0.809834\n",
       "2021-12-31  0.100322  0.085622      0.938092   0.957415"
      ]
     },
     "metadata": {},
     "output_type": "display_data"
    },
    {
     "data": {
      "image/png": "[encoded data removed]",
      "text/plain": [
       "<Figure size 432x288 with 1 Axes>"
      ]
     },
     "metadata": {
      "needs_background": "light"
     },
     "output_type": "display_data"
    },
    {
     "data": {
      "image/png": "[encoded data removed]",
      "text/plain": [
       "<Figure size 432x288 with 1 Axes>"
      ]
     },
     "metadata": {
      "needs_background": "light"
     },
     "output_type": "display_data"
    },
    {
     "data": {
      "image/png": "[encoded data removed]",
      "text/plain": [
       "<Figure size 432x288 with 1 Axes>"
      ]
     },
     "metadata": {
      "needs_background": "light"
     },
     "output_type": "display_data"
    },
    {
     "data": {
      "image/png": "[encoded data removed]",
      "text/plain": [
       "<Figure size 432x288 with 1 Axes>"
      ]
     },
     "metadata": {
      "needs_background": "light"
     },
     "output_type": "display_data"
    }
   ],
   "source": [
    "folds = split_k_folds(us_market, 1, 200)\n",
    "fold = folds[0]\n",
    "\n",
    "optimizer = RiskParityOptimizer(risk_target=[0.85, 0.05, 0.05, 0.05])\n",
    "runner = Runner(\n",
    "    rebalancer=MonthlyRebalancer(optimizer=optimizer, evacuator=FixedEvacuator(level=0.05)),\n",
    ")\n",
    "\n",
    "runner.run(\n",
    "    fold=fold,\n",
    "    verbose=True\n",
    ")\n",
    "report = runner.report()\n",
    "display(report.summary())\n",
    "display(report.annual_summary())\n",
    "ax = report.history_assets().plot()\n",
    "plt.legend(bbox_to_anchor=(1.05, 1), loc='upper left', borderaxespad=0)\n",
    "plt.show()\n",
    "ax = report.history_weights().plot.area(stacked=True)\n",
    "plt.legend(bbox_to_anchor=(1.05, 1), loc='upper left', borderaxespad=0)\n",
    "plt.show()\n",
    "ax = report.history_cost().plot.area(stacked=True)\n",
    "plt.legend(bbox_to_anchor=(1.05, 1), loc='upper left', borderaxespad=0)\n",
    "plt.show()\n",
    "ax = report.history_cash_vs_assets().plot.area(stacked=True)\n",
    "plt.legend(bbox_to_anchor=(1.05, 1), loc='upper left', borderaxespad=0)\n",
    "plt.show()\n",
    "\n"
   ]
  }
 ],
 "metadata": {
  "kernelspec": {
   "display_name": "Python 3",
   "language": "python",
   "name": "python3"
  },
  "language_info": {
   "codemirror_mode": {
    "name": "ipython",
    "version": 3
   },
   "file_extension": ".py",
   "mimetype": "text/x-python",
   "name": "python",
   "nbconvert_exporter": "python",
   "pygments_lexer": "ipython3",
   "version": "3.7.10"
  }
 },
 "nbformat": 4,
 "nbformat_minor": 5
}
