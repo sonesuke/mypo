{
 "cells": [
  {
   "cell_type": "markdown",
   "id": "ef257c2e",
   "metadata": {},
   "source": [
    "Risk Off Strategy\n",
    "================="
   ]
  },
  {
   "cell_type": "code",
   "execution_count": 1,
   "id": "d9746df6",
   "metadata": {
    "execution": {
     "iopub.execute_input": "2021-07-24T10:37:21.613230Z",
     "iopub.status.busy": "2021-07-24T10:37:21.607001Z",
     "iopub.status.idle": "2021-07-24T10:37:24.614995Z",
     "shell.execute_reply": "2021-07-24T10:37:24.612705Z"
    },
    "pycharm": {
     "is_executing": true
    },
    "scrolled": true
   },
   "outputs": [],
   "source": [
    "# If you would like to refresh your data, please execute the bellow codes.\n",
    "\n",
    "import pandas as pd\n",
    "import numpy as np\n",
    "from datetime import datetime\n",
    "from tqdm import tqdm\n",
    "import matplotlib.pyplot as plt\n",
    "\n",
    "from mypo import Loader\n",
    "\n",
    "DOWNLOAD = False\n",
    "\n",
    "if DOWNLOAD:\n",
    "    tickers = pd.read_csv(\"/app/docs/tutorial/tickers.csv\")\n",
    "    loader = Loader()\n",
    "    for row in tqdm(tickers.to_dict('record')):\n",
    "        loader.get(row['Ticker'], expense_ratio=row['ExpenseRatio'] * 0.01)\n",
    "    loader.save('/app/docs/tutorial/all.bin')"
   ]
  },
  {
   "cell_type": "code",
   "execution_count": 2,
   "id": "f75c7b43",
   "metadata": {
    "execution": {
     "iopub.execute_input": "2021-07-24T10:37:24.631089Z",
     "iopub.status.busy": "2021-07-24T10:37:24.628665Z",
     "iopub.status.idle": "2021-07-24T10:37:27.412290Z",
     "shell.execute_reply": "2021-07-24T10:37:27.410448Z"
    },
    "scrolled": true
   },
   "outputs": [],
   "source": [
    "loader = Loader.load('/app/docs/tutorial/all.bin')\n",
    "loader = loader.since(datetime(2007, 1, 1))\n",
    "market = loader.get_market()\n",
    "\n",
    "selected_tickers = ['SPY', 'QQQ', 'TLT', 'IEF', 'GLD']"
   ]
  },
  {
   "cell_type": "code",
   "execution_count": 3,
   "id": "f36393f3",
   "metadata": {
    "execution": {
     "iopub.execute_input": "2021-07-24T10:37:27.429167Z",
     "iopub.status.busy": "2021-07-24T10:37:27.426989Z",
     "iopub.status.idle": "2021-07-24T10:37:27.460510Z",
     "shell.execute_reply": "2021-07-24T10:37:27.462181Z"
    },
    "scrolled": true
   },
   "outputs": [],
   "source": [
    "from mypo import split_k_folds\n",
    "from mypo.optimizer import NoOptimizer, RiskParityOptimizer\n",
    "from mypo.rebalancer import MonthlyRebalancer\n",
    "from mypo.evacuator import CovarianceEvacuator, MovingAverageEvacuator, CalendarEvacuator, FixedEvacuator\n",
    "from mypo import Runner\n",
    "\n",
    "folds = split_k_folds(market, 1, 200)\n",
    "fold = folds[0].filter(selected_tickers)"
   ]
  },
  {
   "cell_type": "markdown",
   "id": "46b22985",
   "metadata": {},
   "source": [
    "Reference Performance (SPY)\n",
    "----------------------------------------"
   ]
  },
  {
   "cell_type": "code",
   "execution_count": 4,
   "id": "9c5ce937",
   "metadata": {
    "execution": {
     "iopub.execute_input": "2021-07-24T10:37:27.487331Z",
     "iopub.status.busy": "2021-07-24T10:37:27.484156Z",
     "iopub.status.idle": "2021-07-24T10:38:07.929871Z",
     "shell.execute_reply": "2021-07-24T10:38:07.928053Z"
    },
    "scrolled": false
   },
   "outputs": [
    {
     "name": "stderr",
     "output_type": "stream",
     "text": [
      "100%|██████████| 3416/3416 [00:46<00:00, 72.80it/s]\n"
     ]
    },
    {
     "name": "stdout",
     "output_type": "stream",
     "text": [
      "                     tickers  yearly total return  sharpe ratio  \\\n",
      "0  [SPY, QQQ, TLT, IEF, GLD]             1.081401      0.313451   \n",
      "\n",
      "   max draw down  max draw down span  \n",
      "0       0.452531                1318  \n"
     ]
    },
    {
     "ename": "AttributeError",
     "evalue": "'Reporter' object has no attribute 'anuual_summary'",
     "output_type": "error",
     "traceback": [
      "\u001B[0;31m---------------------------------------------------------------------------\u001B[0m",
      "\u001B[0;31mAttributeError\u001B[0m                            Traceback (most recent call last)",
      "\u001B[0;32m<ipython-input-4-6a875838a3a0>\u001B[0m in \u001B[0;36m<module>\u001B[0;34m\u001B[0m\n\u001B[1;32m     10\u001B[0m \u001B[0mreport\u001B[0m \u001B[0;34m=\u001B[0m \u001B[0mrunner\u001B[0m\u001B[0;34m.\u001B[0m\u001B[0mreport\u001B[0m\u001B[0;34m(\u001B[0m\u001B[0;34m)\u001B[0m\u001B[0;34m\u001B[0m\u001B[0;34m\u001B[0m\u001B[0m\n\u001B[1;32m     11\u001B[0m \u001B[0mprint\u001B[0m\u001B[0;34m(\u001B[0m\u001B[0mreport\u001B[0m\u001B[0;34m.\u001B[0m\u001B[0msummary\u001B[0m\u001B[0;34m(\u001B[0m\u001B[0;34m)\u001B[0m\u001B[0;34m)\u001B[0m\u001B[0;34m\u001B[0m\u001B[0;34m\u001B[0m\u001B[0m\n\u001B[0;32m---> 12\u001B[0;31m \u001B[0mprint\u001B[0m\u001B[0;34m(\u001B[0m\u001B[0mreport\u001B[0m\u001B[0;34m.\u001B[0m\u001B[0manuual_summary\u001B[0m\u001B[0;34m(\u001B[0m\u001B[0;34m)\u001B[0m\u001B[0;34m)\u001B[0m\u001B[0;34m\u001B[0m\u001B[0;34m\u001B[0m\u001B[0m\n\u001B[0m\u001B[1;32m     13\u001B[0m \u001B[0max\u001B[0m \u001B[0;34m=\u001B[0m \u001B[0mreport\u001B[0m\u001B[0;34m.\u001B[0m\u001B[0mhistory\u001B[0m\u001B[0;34m(\u001B[0m\u001B[0;34m)\u001B[0m\u001B[0;34m.\u001B[0m\u001B[0mplot\u001B[0m\u001B[0;34m(\u001B[0m\u001B[0;34m)\u001B[0m\u001B[0;34m\u001B[0m\u001B[0;34m\u001B[0m\u001B[0m\n\u001B[1;32m     14\u001B[0m \u001B[0mplt\u001B[0m\u001B[0;34m.\u001B[0m\u001B[0mlegend\u001B[0m\u001B[0;34m(\u001B[0m\u001B[0mbbox_to_anchor\u001B[0m\u001B[0;34m=\u001B[0m\u001B[0;34m(\u001B[0m\u001B[0;36m1.05\u001B[0m\u001B[0;34m,\u001B[0m \u001B[0;36m1\u001B[0m\u001B[0;34m)\u001B[0m\u001B[0;34m,\u001B[0m \u001B[0mloc\u001B[0m\u001B[0;34m=\u001B[0m\u001B[0;34m'upper left'\u001B[0m\u001B[0;34m,\u001B[0m \u001B[0mborderaxespad\u001B[0m\u001B[0;34m=\u001B[0m\u001B[0;36m0\u001B[0m\u001B[0;34m)\u001B[0m\u001B[0;34m\u001B[0m\u001B[0;34m\u001B[0m\u001B[0m\n",
      "\u001B[0;31mAttributeError\u001B[0m: 'Reporter' object has no attribute 'anuual_summary'"
     ]
    }
   ],
   "source": [
    "optimizer = NoOptimizer([1, 0, 0, 0, 0])\n",
    "runner = Runner(\n",
    "    rebalancer=MonthlyRebalancer(optimizer=optimizer),\n",
    ")\n",
    "\n",
    "runner.run(\n",
    "    fold=fold,\n",
    "    verbose=True\n",
    ")\n",
    "report = runner.report()\n",
    "print(report.summary())\n",
    "print(report.anuual_summary())\n",
    "ax = report.history().plot()\n",
    "plt.legend(bbox_to_anchor=(1.05, 1), loc='upper left', borderaxespad=0)\n",
    "plt.show()\n",
    "ax = report.history_weights().plot.area(stacked=True)\n",
    "plt.legend(bbox_to_anchor=(1.05, 1), loc='upper left', borderaxespad=0)\n",
    "plt.show()\n"
   ]
  },
  {
   "cell_type": "markdown",
   "id": "adab3800",
   "metadata": {},
   "source": [
    "RiskParityOptimizer without filter\n",
    "--------------------"
   ]
  },
  {
   "cell_type": "code",
   "execution_count": null,
   "id": "3207dea9",
   "metadata": {
    "execution": {
     "iopub.execute_input": "2021-07-24T10:38:07.952278Z",
     "iopub.status.busy": "2021-07-24T10:38:07.944630Z",
     "iopub.status.idle": "2021-07-24T10:38:51.378814Z",
     "shell.execute_reply": "2021-07-24T10:38:51.380658Z"
    },
    "pycharm": {
     "name": "#%%\n"
    },
    "scrolled": false
   },
   "outputs": [],
   "source": [
    "optimizer = RiskParityOptimizer(risk_target=[0.2, 0.25, 0.2, 0.25, 0.1])\n",
    "runner = Runner(\n",
    "    rebalancer=MonthlyRebalancer(optimizer=optimizer),\n",
    ")\n",
    "\n",
    "runner.run(\n",
    "    fold=fold,\n",
    "    verbose=True\n",
    ")\n",
    "report = runner.report()\n",
    "print(report.summary())\n",
    "print(report.anuual_summary())\n",
    "ax = report.history_assets().plot()\n",
    "plt.legend(bbox_to_anchor=(1.05, 1), loc='upper left', borderaxespad=0)\n",
    "plt.show()\n",
    "ax = report.history_weights().plot.area(stacked=True)\n",
    "plt.legend(bbox_to_anchor=(1.05, 1), loc='upper left', borderaxespad=0)\n",
    "plt.show()\n",
    "ax = report.history_cost().plot.area(stacked=True)\n",
    "plt.legend(bbox_to_anchor=(1.05, 1), loc='upper left', borderaxespad=0)\n",
    "plt.show()\n",
    "ax = report.history_cash_vs_assets().plot.area(stacked=True)\n",
    "plt.legend(bbox_to_anchor=(1.05, 1), loc='upper left', borderaxespad=0)\n",
    "plt.show()\n"
   ]
  },
  {
   "cell_type": "markdown",
   "id": "89af493e",
   "metadata": {},
   "source": [
    "RotationStrategy with cash filter (Covariance)\n",
    "----------------------------------------"
   ]
  },
  {
   "cell_type": "code",
   "execution_count": null,
   "id": "403871be",
   "metadata": {
    "execution": {
     "iopub.execute_input": "2021-07-24T10:38:07.952278Z",
     "iopub.status.busy": "2021-07-24T10:38:07.944630Z",
     "iopub.status.idle": "2021-07-24T10:38:51.378814Z",
     "shell.execute_reply": "2021-07-24T10:38:51.380658Z"
    },
    "pycharm": {
     "name": "#%%\n"
    },
    "scrolled": true
   },
   "outputs": [],
   "source": [
    "optimizer = RiskParityOptimizer(risk_target=[0.2, 0.25, 0.2, 0.25, 0.1])\n",
    "runner = Runner(\n",
    "    rebalancer=MonthlyRebalancer(optimizer=optimizer, evacuator=CovarianceEvacuator(long_span=250, short_span=20, factor=0.3)),\n",
    ")\n",
    "\n",
    "runner.run(\n",
    "    fold=fold,\n",
    "    verbose=True\n",
    ")\n",
    "report = runner.report()\n",
    "print(report.summary())\n",
    "print(report.anuual_summary())\n",
    "ax = report.history_assets().plot()\n",
    "plt.legend(bbox_to_anchor=(1.05, 1), loc='upper left', borderaxespad=0)\n",
    "plt.show()\n",
    "ax = report.history_weights().plot.area(stacked=True)\n",
    "plt.legend(bbox_to_anchor=(1.05, 1), loc='upper left', borderaxespad=0)\n",
    "plt.show()\n",
    "ax = report.history_cost().plot.area(stacked=True)\n",
    "plt.legend(bbox_to_anchor=(1.05, 1), loc='upper left', borderaxespad=0)\n",
    "plt.show()\n",
    "ax = report.history_cash_vs_assets().plot.area(stacked=True)\n",
    "plt.legend(bbox_to_anchor=(1.05, 1), loc='upper left', borderaxespad=0)\n",
    "plt.show()\n"
   ]
  },
  {
   "cell_type": "markdown",
   "id": "932da029",
   "metadata": {},
   "source": [
    "RiskParityOptimizer with cash filter (Moving Average)\n",
    "----------------------------------------"
   ]
  },
  {
   "cell_type": "code",
   "execution_count": null,
   "id": "1b6263a0",
   "metadata": {
    "execution": {
     "iopub.execute_input": "2021-07-24T10:38:51.398339Z",
     "iopub.status.busy": "2021-07-24T10:38:51.396137Z",
     "iopub.status.idle": "2021-07-24T10:40:08.107054Z",
     "shell.execute_reply": "2021-07-24T10:40:08.104998Z"
    },
    "pycharm": {
     "name": "#%%\n"
    },
    "scrolled": true
   },
   "outputs": [],
   "source": [
    "optimizer = RiskParityOptimizer(risk_target=[0.2, 0.25, 0.2, 0.25, 0.1])\n",
    "runner = Runner(\n",
    "    rebalancer=MonthlyRebalancer(optimizer=optimizer, evacuator=MovingAverageEvacuator(span=150, risk_off=0.9)),\n",
    ")\n",
    "\n",
    "runner.run(\n",
    "    fold=fold,\n",
    "    verbose=True\n",
    ")\n",
    "report = runner.report()\n",
    "print(report.summary())\n",
    "print(report.anuual_summary())\n",
    "ax = report.history_assets().plot()\n",
    "plt.legend(bbox_to_anchor=(1.05, 1), loc='upper left', borderaxespad=0)\n",
    "plt.show()\n",
    "ax = report.history_weights().plot.area(stacked=True)\n",
    "plt.legend(bbox_to_anchor=(1.05, 1), loc='upper left', borderaxespad=0)\n",
    "plt.show()\n",
    "ax = report.history_cost().plot.area(stacked=True)\n",
    "plt.legend(bbox_to_anchor=(1.05, 1), loc='upper left', borderaxespad=0)\n",
    "plt.show()\n",
    "ax = report.history_cash_vs_assets().plot.area(stacked=True)\n",
    "plt.legend(bbox_to_anchor=(1.05, 1), loc='upper left', borderaxespad=0)\n",
    "plt.show()"
   ]
  },
  {
   "cell_type": "markdown",
   "id": "a5e96e5d",
   "metadata": {},
   "source": [
    "RiskParityOptimizer with cash filter (Fixed Level)\n",
    "----------------------------------------"
   ]
  },
  {
   "cell_type": "code",
   "execution_count": null,
   "id": "798723fa",
   "metadata": {
    "scrolled": true
   },
   "outputs": [],
   "source": [
    "optimizer = RiskParityOptimizer(risk_target=[0.2, 0.25, 0.2, 0.25, 0.1])\n",
    "runner = Runner(\n",
    "    rebalancer=MonthlyRebalancer(optimizer=optimizer, evacuator=FixedEvacuator(level=0.05)),\n",
    ")\n",
    "\n",
    "runner.run(\n",
    "    fold=fold,\n",
    "    verbose=True\n",
    ")\n",
    "report = runner.report()\n",
    "print(report.summary())\n",
    "print(report.anuual_summary())\n",
    "ax = report.history_assets().plot()\n",
    "plt.legend(bbox_to_anchor=(1.05, 1), loc='upper left', borderaxespad=0)\n",
    "plt.show()\n",
    "ax = report.history_weights().plot.area(stacked=True)\n",
    "plt.legend(bbox_to_anchor=(1.05, 1), loc='upper left', borderaxespad=0)\n",
    "plt.show()\n",
    "ax = report.history_cost().plot.area(stacked=True)\n",
    "plt.legend(bbox_to_anchor=(1.05, 1), loc='upper left', borderaxespad=0)\n",
    "plt.show()\n",
    "ax = report.history_cash_vs_assets().plot.area(stacked=True)\n",
    "plt.legend(bbox_to_anchor=(1.05, 1), loc='upper left', borderaxespad=0)\n",
    "plt.show()"
   ]
  },
  {
   "cell_type": "markdown",
   "id": "6849cb8a",
   "metadata": {},
   "source": [
    "RiskParityOptimizer with cash filter (Calendar)\n",
    "----------------------------------------"
   ]
  },
  {
   "cell_type": "code",
   "execution_count": null,
   "id": "255ad984",
   "metadata": {
    "scrolled": true
   },
   "outputs": [],
   "source": [
    "optimizer = RiskParityOptimizer(risk_target=[0.2, 0.25, 0.2, 0.25, 0.1])\n",
    "runner = Runner(\n",
    "    rebalancer=MonthlyRebalancer(optimizer=optimizer, evacuator=CalendarEvacuator(months=[8], risk_off=0.9)),\n",
    ")\n",
    "\n",
    "runner.run(\n",
    "    fold=fold,\n",
    "    verbose=True\n",
    ")\n",
    "report = runner.report()\n",
    "print(report.summary())\n",
    "print(report.annual_summary())\n",
    "ax = report.history_assets().plot()\n",
    "plt.legend(bbox_to_anchor=(1.05, 1), loc='upper left', borderaxespad=0)\n",
    "plt.show()\n",
    "ax = report.history_weights().plot.area(stacked=True)\n",
    "plt.legend(bbox_to_anchor=(1.05, 1), loc='upper left', borderaxespad=0)\n",
    "plt.show()\n",
    "ax = report.history_cost().plot.area(stacked=True)\n",
    "plt.legend(bbox_to_anchor=(1.05, 1), loc='upper left', borderaxespad=0)\n",
    "plt.show()\n",
    "ax = report.history_cash_vs_assets().plot.area(stacked=True)\n",
    "plt.legend(bbox_to_anchor=(1.05, 1), loc='upper left', borderaxespad=0)\n",
    "plt.show()\n"
   ]
  }
 ],
 "metadata": {
  "kernelspec": {
   "display_name": "Python 3",
   "language": "python",
   "name": "python3"
  },
  "language_info": {
   "codemirror_mode": {
    "name": "ipython",
    "version": 3
   },
   "file_extension": ".py",
   "mimetype": "text/x-python",
   "name": "python",
   "nbconvert_exporter": "python",
   "pygments_lexer": "ipython3",
   "version": "3.7.10"
  }
 },
 "nbformat": 4,
 "nbformat_minor": 5
}